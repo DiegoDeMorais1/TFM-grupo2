{
 "cells": [
  {
   "cell_type": "markdown",
   "id": "455d8af9-50b8-4f03-9dae-9ed31da94d4a",
   "metadata": {},
   "source": [
    "# TFM - Grupo 2 - Entrega 18/05/2024"
   ]
  },
  {
   "cell_type": "code",
   "execution_count": 18,
   "id": "3e81ca17-071e-456f-aab1-f2467c14048a",
   "metadata": {},
   "outputs": [],
   "source": [
    "import pandas as pd\n",
    "import numpy as np\n",
    "import matplotlib.pyplot as plt\n",
    "#from dython import nominal\n",
    "import seaborn as sns\n",
    "import math\n",
    "\n",
    "pd.set_option('display.max_columns', None)"
   ]
  },
  {
   "cell_type": "code",
   "execution_count": 2,
   "id": "f3b569c7-1cf0-47cb-9d87-f19d659327a4",
   "metadata": {},
   "outputs": [],
   "source": [
    "df1 = pd.read_csv(\"data/daily_calendar_with_events.csv\")\n",
    "df2 = pd.read_csv(\"data/item_prices.csv\")\n",
    "df3 = pd.read_csv(\"data/item_sales.csv\")"
   ]
  },
  {
   "cell_type": "code",
   "execution_count": 3,
   "id": "35c5c23f-a7c8-4570-8b38-294bb0049603",
   "metadata": {},
   "outputs": [
    {
     "name": "stdout",
     "output_type": "stream",
     "text": [
      "<class 'pandas.core.frame.DataFrame'>\n",
      "RangeIndex: 1913 entries, 0 to 1912\n",
      "Data columns (total 5 columns):\n",
      " #   Column       Non-Null Count  Dtype \n",
      "---  ------       --------------  ----- \n",
      " 0   date         1913 non-null   object\n",
      " 1   weekday      1913 non-null   object\n",
      " 2   weekday_int  1913 non-null   int64 \n",
      " 3   d            1913 non-null   object\n",
      " 4   event        26 non-null     object\n",
      "dtypes: int64(1), object(4)\n",
      "memory usage: 74.9+ KB\n"
     ]
    },
    {
     "data": {
      "text/html": [
       "<div>\n",
       "<style scoped>\n",
       "    .dataframe tbody tr th:only-of-type {\n",
       "        vertical-align: middle;\n",
       "    }\n",
       "\n",
       "    .dataframe tbody tr th {\n",
       "        vertical-align: top;\n",
       "    }\n",
       "\n",
       "    .dataframe thead th {\n",
       "        text-align: right;\n",
       "    }\n",
       "</style>\n",
       "<table border=\"1\" class=\"dataframe\">\n",
       "  <thead>\n",
       "    <tr style=\"text-align: right;\">\n",
       "      <th></th>\n",
       "      <th>date</th>\n",
       "      <th>weekday</th>\n",
       "      <th>weekday_int</th>\n",
       "      <th>d</th>\n",
       "      <th>event</th>\n",
       "    </tr>\n",
       "  </thead>\n",
       "  <tbody>\n",
       "    <tr>\n",
       "      <th>0</th>\n",
       "      <td>2011-01-29</td>\n",
       "      <td>Saturday</td>\n",
       "      <td>1</td>\n",
       "      <td>d_1</td>\n",
       "      <td>NaN</td>\n",
       "    </tr>\n",
       "    <tr>\n",
       "      <th>1</th>\n",
       "      <td>2011-01-30</td>\n",
       "      <td>Sunday</td>\n",
       "      <td>2</td>\n",
       "      <td>d_2</td>\n",
       "      <td>NaN</td>\n",
       "    </tr>\n",
       "    <tr>\n",
       "      <th>2</th>\n",
       "      <td>2011-01-31</td>\n",
       "      <td>Monday</td>\n",
       "      <td>3</td>\n",
       "      <td>d_3</td>\n",
       "      <td>NaN</td>\n",
       "    </tr>\n",
       "    <tr>\n",
       "      <th>3</th>\n",
       "      <td>2011-02-01</td>\n",
       "      <td>Tuesday</td>\n",
       "      <td>4</td>\n",
       "      <td>d_4</td>\n",
       "      <td>NaN</td>\n",
       "    </tr>\n",
       "    <tr>\n",
       "      <th>4</th>\n",
       "      <td>2011-02-02</td>\n",
       "      <td>Wednesday</td>\n",
       "      <td>5</td>\n",
       "      <td>d_5</td>\n",
       "      <td>NaN</td>\n",
       "    </tr>\n",
       "  </tbody>\n",
       "</table>\n",
       "</div>"
      ],
      "text/plain": [
       "         date    weekday  weekday_int    d event\n",
       "0  2011-01-29   Saturday            1  d_1   NaN\n",
       "1  2011-01-30     Sunday            2  d_2   NaN\n",
       "2  2011-01-31     Monday            3  d_3   NaN\n",
       "3  2011-02-01    Tuesday            4  d_4   NaN\n",
       "4  2011-02-02  Wednesday            5  d_5   NaN"
      ]
     },
     "execution_count": 3,
     "metadata": {},
     "output_type": "execute_result"
    }
   ],
   "source": [
    "# daily_calendar_with_events.csv\n",
    "df1.info()\n",
    "df1.head()"
   ]
  },
  {
   "cell_type": "code",
   "execution_count": 4,
   "id": "a553f69d",
   "metadata": {},
   "outputs": [],
   "source": [
    "df1['date'] = pd.to_datetime(df1.date, format='%Y-%m-%d')"
   ]
  },
  {
   "cell_type": "code",
   "execution_count": 5,
   "id": "44fe5e74",
   "metadata": {},
   "outputs": [
    {
     "name": "stdout",
     "output_type": "stream",
     "text": [
      "<class 'pandas.core.frame.DataFrame'>\n",
      "RangeIndex: 1913 entries, 0 to 1912\n",
      "Data columns (total 5 columns):\n",
      " #   Column       Non-Null Count  Dtype         \n",
      "---  ------       --------------  -----         \n",
      " 0   date         1913 non-null   datetime64[ns]\n",
      " 1   weekday      1913 non-null   object        \n",
      " 2   weekday_int  1913 non-null   int64         \n",
      " 3   d            1913 non-null   object        \n",
      " 4   event        26 non-null     object        \n",
      "dtypes: datetime64[ns](1), int64(1), object(3)\n",
      "memory usage: 74.9+ KB\n"
     ]
    }
   ],
   "source": [
    "df1.info()"
   ]
  },
  {
   "cell_type": "code",
   "execution_count": 29,
   "id": "9bdec977-62a3-4af1-82b0-7bf18145467f",
   "metadata": {},
   "outputs": [],
   "source": [
    "#selecionar automaticamente variáveis numericas\n",
    "df_num = df1._get_numeric_data()"
   ]
  },
  {
   "cell_type": "code",
   "execution_count": 30,
   "id": "20574da3-df34-4942-830e-22a90c11bc62",
   "metadata": {},
   "outputs": [
    {
     "data": {
      "text/html": [
       "<div>\n",
       "<style scoped>\n",
       "    .dataframe tbody tr th:only-of-type {\n",
       "        vertical-align: middle;\n",
       "    }\n",
       "\n",
       "    .dataframe tbody tr th {\n",
       "        vertical-align: top;\n",
       "    }\n",
       "\n",
       "    .dataframe thead th {\n",
       "        text-align: right;\n",
       "    }\n",
       "</style>\n",
       "<table border=\"1\" class=\"dataframe\">\n",
       "  <thead>\n",
       "    <tr style=\"text-align: right;\">\n",
       "      <th></th>\n",
       "      <th>weekday_int</th>\n",
       "    </tr>\n",
       "  </thead>\n",
       "  <tbody>\n",
       "    <tr>\n",
       "      <th>0</th>\n",
       "      <td>1</td>\n",
       "    </tr>\n",
       "  </tbody>\n",
       "</table>\n",
       "</div>"
      ],
      "text/plain": [
       "   weekday_int\n",
       "0            1"
      ]
     },
     "execution_count": 30,
     "metadata": {},
     "output_type": "execute_result"
    }
   ],
   "source": [
    "df_num.head(1)"
   ]
  },
  {
   "cell_type": "code",
   "execution_count": 26,
   "id": "65a51390",
   "metadata": {},
   "outputs": [],
   "source": [
    "# função para criar boxplots de todas as variáveis de uma dada dataframe\n",
    "def plot_box_plots(df1, fig_size = (12, 20)):\n",
    "    \"\"\"\n",
    "    df: dataframe with only numerical variables\n",
    "    fig_size: size of each sub plot\n",
    "    output: box plots of each variable\n",
    "    \"\"\"\n",
    "    \n",
    "    #create structure\n",
    "    fig, axes = plt.subplots(math.ceil(len(df1.columns) / 3), 3, figsize = fig_size)\n",
    "\n",
    "    #iteration by column\n",
    "    for i, ax in enumerate(fig.axes):\n",
    "        if i < len(df1.columns):\n",
    "            sns.boxplot(x=df1.columns[i], data=df1, ax=ax)\n",
    "    \n",
    "    # choose when hide figure\n",
    "    if round((len(df1.columns) / 3) % 1, 2) == 0.33:\n",
    "        axes.flat[-2].set_visible(False)\n",
    "        axes.flat[-1].set_visible(False)\n",
    "    elif round((len(df.columns) / 3) % 1, 2) == 0.67:\n",
    "        axes.flat[-1].set_visible(False)\n",
    "    else:\n",
    "        pass\n",
    "    \n",
    "    fig.tight_layout()"
   ]
  },
  {
   "cell_type": "code",
   "execution_count": 39,
   "id": "3c10d920",
   "metadata": {},
   "outputs": [
    {
     "data": {
      "image/png": "[encoded data removed]",
      "text/plain": [
       "<Figure size 2000x400 with 3 Axes>"
      ]
     },
     "metadata": {},
     "output_type": "display_data"
    }
   ],
   "source": [
    "plot_box_plots(df_num, (20, 4))"
   ]
  },
  {
   "cell_type": "code",
   "execution_count": 40,
   "id": "d6a350be",
   "metadata": {},
   "outputs": [
    {
     "data": {
      "text/plain": [
       "date              0\n",
       "weekday           0\n",
       "weekday_int       0\n",
       "d                 0\n",
       "event          1887\n",
       "dtype: int64"
      ]
     },
     "execution_count": 40,
     "metadata": {},
     "output_type": "execute_result"
    }
   ],
   "source": [
    "# Dados em falta\n",
    "\n",
    "df1.isnull().sum()"
   ]
  },
  {
   "cell_type": "code",
   "execution_count": 11,
   "id": "66852cd6",
   "metadata": {
    "collapsed": true,
    "jupyter": {
     "outputs_hidden": true
    },
    "scrolled": true
   },
   "outputs": [
    {
     "data": {
      "image/png": "[encoded data removed]",
      "text/plain": [
       "<Figure size 1200x1000 with 2 Axes>"
      ]
     },
     "metadata": {},
     "output_type": "display_data"
    }
   ],
   "source": []
  },
  {
   "cell_type": "code",
   "execution_count": null,
   "id": "806a7705",
   "metadata": {},
   "outputs": [],
   "source": []
  },
  {
   "cell_type": "code",
   "execution_count": 28,
   "id": "0aced0d1-c080-4f6c-823e-2e710bad1d00",
   "metadata": {},
   "outputs": [
    {
     "name": "stdout",
     "output_type": "stream",
     "text": [
      "<class 'pandas.core.frame.DataFrame'>\n",
      "RangeIndex: 6965706 entries, 0 to 6965705\n",
      "Data columns (total 5 columns):\n",
      " #   Column      Dtype  \n",
      "---  ------      -----  \n",
      " 0   item        object \n",
      " 1   category    object \n",
      " 2   store_code  object \n",
      " 3   yearweek    float64\n",
      " 4   sell_price  float64\n",
      "dtypes: float64(2), object(3)\n",
      "memory usage: 265.7+ MB\n"
     ]
    },
    {
     "data": {
      "text/html": [
       "<div>\n",
       "<style scoped>\n",
       "    .dataframe tbody tr th:only-of-type {\n",
       "        vertical-align: middle;\n",
       "    }\n",
       "\n",
       "    .dataframe tbody tr th {\n",
       "        vertical-align: top;\n",
       "    }\n",
       "\n",
       "    .dataframe thead th {\n",
       "        text-align: right;\n",
       "    }\n",
       "</style>\n",
       "<table border=\"1\" class=\"dataframe\">\n",
       "  <thead>\n",
       "    <tr style=\"text-align: right;\">\n",
       "      <th></th>\n",
       "      <th>item</th>\n",
       "      <th>category</th>\n",
       "      <th>store_code</th>\n",
       "      <th>yearweek</th>\n",
       "      <th>sell_price</th>\n",
       "    </tr>\n",
       "  </thead>\n",
       "  <tbody>\n",
       "    <tr>\n",
       "      <th>0</th>\n",
       "      <td>ACCESORIES_1_001</td>\n",
       "      <td>ACCESORIES</td>\n",
       "      <td>NYC_1</td>\n",
       "      <td>201328.0</td>\n",
       "      <td>12.7414</td>\n",
       "    </tr>\n",
       "    <tr>\n",
       "      <th>1</th>\n",
       "      <td>ACCESORIES_1_001</td>\n",
       "      <td>ACCESORIES</td>\n",
       "      <td>NYC_1</td>\n",
       "      <td>201329.0</td>\n",
       "      <td>12.7414</td>\n",
       "    </tr>\n",
       "    <tr>\n",
       "      <th>2</th>\n",
       "      <td>ACCESORIES_1_001</td>\n",
       "      <td>ACCESORIES</td>\n",
       "      <td>NYC_1</td>\n",
       "      <td>201330.0</td>\n",
       "      <td>10.9858</td>\n",
       "    </tr>\n",
       "    <tr>\n",
       "      <th>3</th>\n",
       "      <td>ACCESORIES_1_001</td>\n",
       "      <td>ACCESORIES</td>\n",
       "      <td>NYC_1</td>\n",
       "      <td>201331.0</td>\n",
       "      <td>10.9858</td>\n",
       "    </tr>\n",
       "    <tr>\n",
       "      <th>4</th>\n",
       "      <td>ACCESORIES_1_001</td>\n",
       "      <td>ACCESORIES</td>\n",
       "      <td>NYC_1</td>\n",
       "      <td>201332.0</td>\n",
       "      <td>10.9858</td>\n",
       "    </tr>\n",
       "  </tbody>\n",
       "</table>\n",
       "</div>"
      ],
      "text/plain": [
       "               item    category store_code  yearweek  sell_price\n",
       "0  ACCESORIES_1_001  ACCESORIES      NYC_1  201328.0     12.7414\n",
       "1  ACCESORIES_1_001  ACCESORIES      NYC_1  201329.0     12.7414\n",
       "2  ACCESORIES_1_001  ACCESORIES      NYC_1  201330.0     10.9858\n",
       "3  ACCESORIES_1_001  ACCESORIES      NYC_1  201331.0     10.9858\n",
       "4  ACCESORIES_1_001  ACCESORIES      NYC_1  201332.0     10.9858"
      ]
     },
     "execution_count": 28,
     "metadata": {},
     "output_type": "execute_result"
    }
   ],
   "source": [
    "# Dataset item_prices.csv\n",
    "\n",
    "df2.info()\n",
    "df2.head()"
   ]
  },
  {
   "cell_type": "code",
   "execution_count": 41,
   "id": "c83122d1-e13d-4e6c-8e23-97f3119cba30",
   "metadata": {},
   "outputs": [
    {
     "data": {
      "text/plain": [
       "item               0\n",
       "category           0\n",
       "store_code         0\n",
       "yearweek      243920\n",
       "sell_price         0\n",
       "dtype: int64"
      ]
     },
     "execution_count": 41,
     "metadata": {},
     "output_type": "execute_result"
    }
   ],
   "source": [
    "# Dados em falta\n",
    "\n",
    "df2.isnull().sum()"
   ]
  },
  {
   "cell_type": "code",
   "execution_count": 13,
   "id": "ff2e34a7-9251-43ed-9494-a60d28fc72c0",
   "metadata": {},
   "outputs": [],
   "source": []
  },
  {
   "cell_type": "code",
   "execution_count": 14,
   "id": "38c06f31-dca2-4713-903b-e3178e072a9a",
   "metadata": {
    "collapsed": true,
    "jupyter": {
     "outputs_hidden": true
    },
    "scrolled": true
   },
   "outputs": [
    {
     "data": {
      "image/png": "[encoded data removed]",
      "text/plain": [
       "<Figure size 1200x1000 with 2 Axes>"
      ]
     },
     "metadata": {},
     "output_type": "display_data"
    }
   ],
   "source": []
  },
  {
   "cell_type": "code",
   "execution_count": null,
   "id": "7796c4ba-ad87-414a-b0eb-9f1331916046",
   "metadata": {},
   "outputs": [],
   "source": [
    "# DataSet item_sales.csv\n",
    "\n",
    "df3.info()\n",
    "df3.head()"
   ]
  },
  {
   "cell_type": "code",
   "execution_count": null,
   "id": "394e20f9",
   "metadata": {},
   "outputs": [],
   "source": [
    "import matplotlib.pyplot as plt\n",
    "import seaborn as sns\n",
    "import math\n",
    "from sklearn.model_selection import train_test_split\n",
    "from ydata_profiling import ProfileReport\n",
    "\n",
    "%matplotlib inline\n",
    "\n",
    "pd.set_option('display.max_columns', None)"
   ]
  },
  {
   "cell_type": "code",
   "execution_count": null,
   "id": "8ec0c12a-ca42-4dff-8285-0c6238315583",
   "metadata": {},
   "outputs": [],
   "source": [
    "df3.shape"
   ]
  },
  {
   "cell_type": "code",
   "execution_count": null,
   "id": "1c6179bb-2178-44da-bd79-0bb17bc97447",
   "metadata": {},
   "outputs": [],
   "source": [
    "df3.info()"
   ]
  },
  {
   "cell_type": "code",
   "execution_count": null,
   "id": "8b589ece-3adf-45d5-8001-776f7cbe6058",
   "metadata": {},
   "outputs": [],
   "source": [
    "df3.dtypes"
   ]
  },
  {
   "cell_type": "code",
   "execution_count": null,
   "id": "1c0a5705-6bc2-4c8d-bab7-9026c80bf886",
   "metadata": {},
   "outputs": [],
   "source": [
    "df3.describe(datetime_is_numeric=True)"
   ]
  },
  {
   "cell_type": "code",
   "execution_count": null,
   "id": "8e373bd8-8f98-4e85-bd04-5d0d33f7f5b3",
   "metadata": {},
   "outputs": [],
   "source": [
    "df3.describe(include=[object])"
   ]
  },
  {
   "cell_type": "markdown",
   "id": "6fd1de99-f2e5-4b67-bcbd-04f2c62e433d",
   "metadata": {},
   "source": [
    "# Relatório de dados"
   ]
  },
  {
   "cell_type": "code",
   "execution_count": null,
   "id": "ebcd3850-517d-4fdd-9399-d4c2aa8e27f6",
   "metadata": {},
   "outputs": [],
   "source": [
    "#profile = ProfileReport(df3, title=\"Pandas Profiling Report\")\n",
    "\n",
    "#%%time\n",
    "#profile.to_file(\"EDA.html\")\n",
    "#profile"
   ]
  },
  {
   "cell_type": "code",
   "execution_count": null,
   "id": "11bba25b-ad67-49f4-8802-ae4e6aeb264c",
   "metadata": {},
   "outputs": [],
   "source": [
    "print(df3.isnull().sum()) "
   ]
  },
  {
   "cell_type": "code",
   "execution_count": null,
   "id": "beefc8d8-1888-40e9-870e-13276a6e76a7",
   "metadata": {},
   "outputs": [],
   "source": [
    "# função para criar boxplots de todas as variáveis de uma dada dataframe\n",
    "def plot_box_plots(df, fig_size = (12, 20)):\n",
    "    \"\"\"\n",
    "    df: dataframe with only numerical variables\n",
    "    fig_size: size of each sub plot\n",
    "    output: box plots of each variable\n",
    "    \"\"\"\n",
    "    \n",
    "    #create structure\n",
    "    fig, axes = plt.subplots(math.ceil(len(df.columns) / 3), 3, figsize = fig_size)\n",
    "\n",
    "    #iteration by column\n",
    "    for i, ax in enumerate(fig.axes):\n",
    "        if i < len(df.columns):\n",
    "            sns.boxplot(x=df.columns[i], data=df, ax=ax)\n",
    "    \n",
    "    # choose when hide figure\n",
    "    if round((len(df.columns) / 3) % 1, 2) == 0.33:\n",
    "        axes.flat[-2].set_visible(False)\n",
    "        axes.flat[-1].set_visible(False)\n",
    "    elif round((len(df.columns) / 3) % 1, 2) == 0.67:\n",
    "        axes.flat[-1].set_visible(False)\n",
    "    else:\n",
    "        pass\n",
    "    \n",
    "    fig.tight_layout()"
   ]
  },
  {
   "cell_type": "code",
   "execution_count": null,
   "id": "a28ed991-3a1d-4bb5-b52b-9c9a5fdb2a36",
   "metadata": {},
   "outputs": [],
   "source": [
    "#selecionar automaticamente variáveis numericas\n",
    "df_num = df3._get_numeric_data()"
   ]
  },
  {
   "cell_type": "code",
   "execution_count": null,
   "id": "e1f69dcb-f5ac-4bbc-a482-77e193674efe",
   "metadata": {},
   "outputs": [],
   "source": [
    "df_num"
   ]
  },
  {
   "cell_type": "code",
   "execution_count": null,
   "id": "052afc74-bbe7-4021-9149-9c372262813a",
   "metadata": {},
   "outputs": [],
   "source": [
    "#plot_box_plots(df_num, (12, 10))"
   ]
  },
  {
   "cell_type": "code",
   "execution_count": null,
   "id": "4bf1f87a-386c-4361-b5e4-50ea6da9af25",
   "metadata": {},
   "outputs": [],
   "source": [
    "df3['region'].value_counts()"
   ]
  },
  {
   "cell_type": "code",
   "execution_count": null,
   "id": "76a54489",
   "metadata": {},
   "outputs": [],
   "source": [
    "df3['department'].value_counts()"
   ]
  },
  {
   "cell_type": "code",
   "execution_count": null,
   "id": "609ec59c",
   "metadata": {},
   "outputs": [],
   "source": [
    "df3['category'].value_counts()"
   ]
  },
  {
   "cell_type": "code",
   "execution_count": null,
   "id": "f8edb195",
   "metadata": {},
   "outputs": [],
   "source": [
    "df3['store'].value_counts()"
   ]
  },
  {
   "cell_type": "code",
   "execution_count": null,
   "id": "b197e02e",
   "metadata": {},
   "outputs": [],
   "source": []
  },
  {
   "cell_type": "code",
   "execution_count": null,
   "id": "0f151742",
   "metadata": {},
   "outputs": [],
   "source": []
  }
 ],
 "metadata": {
  "kernelspec": {
   "display_name": "env",
   "language": "python",
   "name": "env"
  },
  "language_info": {
   "codemirror_mode": {
    "name": "ipython",
    "version": 3
   },
   "file_extension": ".py",
   "mimetype": "text/x-python",
   "name": "python",
   "nbconvert_exporter": "python",
   "pygments_lexer": "ipython3",
   "version": "3.9.13"
  }
 },
 "nbformat": 4,
 "nbformat_minor": 5
}
