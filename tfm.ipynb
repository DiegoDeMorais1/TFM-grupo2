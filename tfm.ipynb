{
 "cells": [
  {
   "cell_type": "markdown",
   "id": "0a0284e6",
   "metadata": {},
   "source": [
    "# TFM - Grupo 2 - Entrega 18/05/2024"
   ]
  },
  {
   "cell_type": "code",
   "execution_count": null,
   "id": "8a35e402",
   "metadata": {
    "tags": []
   },
   "outputs": [
    {
     "name": "stdout",
     "output_type": "stream",
     "text": [
      "Requirement already satisfied: ydata_profiling in /home/dcm/anaconda3/lib/python3.9/site-packages (4.6.3)\n",
      "Requirement already satisfied: seaborn<0.13,>=0.10.1 in /home/dcm/anaconda3/lib/python3.9/site-packages (from ydata_profiling) (0.11.2)\n",
      "Requirement already satisfied: htmlmin==0.1.12 in /home/dcm/anaconda3/lib/python3.9/site-packages (from ydata_profiling) (0.1.12)\n",
      "Requirement already satisfied: pydantic>=2 in /home/dcm/anaconda3/lib/python3.9/site-packages (from ydata_profiling) (2.5.2)\n",
      "Requirement already satisfied: numba<0.59.0,>=0.56.0 in /home/dcm/anaconda3/lib/python3.9/site-packages (from ydata_profiling) (0.58.1)\n",
      "Requirement already satisfied: requests<3,>=2.24.0 in /home/dcm/anaconda3/lib/python3.9/site-packages (from ydata_profiling) (2.31.0)\n",
      "Requirement already satisfied: wordcloud>=1.9.1 in /home/dcm/anaconda3/lib/python3.9/site-packages (from ydata_profiling) (1.9.2)\n",
      "Requirement already satisfied: tqdm<5,>=4.48.2 in /home/dcm/anaconda3/lib/python3.9/site-packages (from ydata_profiling) (4.64.1)\n",
      "Requirement already satisfied: dacite>=1.8 in /home/dcm/anaconda3/lib/python3.9/site-packages (from ydata_profiling) (1.8.1)\n",
      "Requirement already satisfied: phik<0.13,>=0.11.1 in /home/dcm/anaconda3/lib/python3.9/site-packages (from ydata_profiling) (0.12.3)\n",
      "Requirement already satisfied: PyYAML<6.1,>=5.0.0 in /home/dcm/anaconda3/lib/python3.9/site-packages (from ydata_profiling) (6.0)\n",
      "Requirement already satisfied: statsmodels<1,>=0.13.2 in /home/dcm/anaconda3/lib/python3.9/site-packages (from ydata_profiling) (0.13.2)\n",
      "Requirement already satisfied: matplotlib<3.9,>=3.2 in /home/dcm/anaconda3/lib/python3.9/site-packages (from ydata_profiling) (3.5.2)\n",
      "Requirement already satisfied: multimethod<2,>=1.4 in /home/dcm/anaconda3/lib/python3.9/site-packages (from ydata_profiling) (1.10)\n",
      "Requirement already satisfied: pandas!=1.4.0,<3,>1.1 in /home/dcm/anaconda3/lib/python3.9/site-packages (from ydata_profiling) (1.4.4)\n",
      "Requirement already satisfied: typeguard<5,>=4.1.2 in /home/dcm/anaconda3/lib/python3.9/site-packages (from ydata_profiling) (4.1.5)\n",
      "Requirement already satisfied: visions[type_image_path]==0.7.5 in /home/dcm/anaconda3/lib/python3.9/site-packages (from ydata_profiling) (0.7.5)\n",
      "Requirement already satisfied: scipy<1.12,>=1.4.1 in /home/dcm/anaconda3/lib/python3.9/site-packages (from ydata_profiling) (1.9.1)\n",
      "Requirement already satisfied: numpy<1.26,>=1.16.0 in /home/dcm/anaconda3/lib/python3.9/site-packages (from ydata_profiling) (1.24.4)\n",
      "Requirement already satisfied: jinja2<3.2,>=2.11.1 in /home/dcm/anaconda3/lib/python3.9/site-packages (from ydata_profiling) (3.1.3)\n",
      "Requirement already satisfied: imagehash==4.3.1 in /home/dcm/anaconda3/lib/python3.9/site-packages (from ydata_profiling) (4.3.1)\n",
      "Requirement already satisfied: PyWavelets in /home/dcm/anaconda3/lib/python3.9/site-packages (from imagehash==4.3.1->ydata_profiling) (1.3.0)\n",
      "Requirement already satisfied: pillow in /home/dcm/anaconda3/lib/python3.9/site-packages (from imagehash==4.3.1->ydata_profiling) (10.2.0)\n",
      "Requirement already satisfied: attrs>=19.3.0 in /home/dcm/anaconda3/lib/python3.9/site-packages (from visions[type_image_path]==0.7.5->ydata_profiling) (23.2.0)\n",
      "Requirement already satisfied: networkx>=2.4 in /home/dcm/anaconda3/lib/python3.9/site-packages (from visions[type_image_path]==0.7.5->ydata_profiling) (2.8.4)\n",
      "Requirement already satisfied: tangled-up-in-unicode>=0.0.4 in /home/dcm/anaconda3/lib/python3.9/site-packages (from visions[type_image_path]==0.7.5->ydata_profiling) (0.2.0)\n",
      "Requirement already satisfied: MarkupSafe>=2.0 in /home/dcm/anaconda3/lib/python3.9/site-packages (from jinja2<3.2,>=2.11.1->ydata_profiling) (2.0.1)\n",
      "Requirement already satisfied: cycler>=0.10 in /home/dcm/anaconda3/lib/python3.9/site-packages (from matplotlib<3.9,>=3.2->ydata_profiling) (0.11.0)\n",
      "Requirement already satisfied: kiwisolver>=1.0.1 in /home/dcm/anaconda3/lib/python3.9/site-packages (from matplotlib<3.9,>=3.2->ydata_profiling) (1.4.2)\n",
      "Requirement already satisfied: packaging>=20.0 in /home/dcm/anaconda3/lib/python3.9/site-packages (from matplotlib<3.9,>=3.2->ydata_profiling) (21.3)\n",
      "Requirement already satisfied: fonttools>=4.22.0 in /home/dcm/anaconda3/lib/python3.9/site-packages (from matplotlib<3.9,>=3.2->ydata_profiling) (4.25.0)\n",
      "Requirement already satisfied: pyparsing>=2.2.1 in /home/dcm/anaconda3/lib/python3.9/site-packages (from matplotlib<3.9,>=3.2->ydata_profiling) (3.0.9)\n",
      "Requirement already satisfied: python-dateutil>=2.7 in /home/dcm/anaconda3/lib/python3.9/site-packages (from matplotlib<3.9,>=3.2->ydata_profiling) (2.8.2)\n",
      "Requirement already satisfied: llvmlite<0.42,>=0.41.0dev0 in /home/dcm/anaconda3/lib/python3.9/site-packages (from numba<0.59.0,>=0.56.0->ydata_profiling) (0.41.1)\n",
      "Requirement already satisfied: pytz>=2020.1 in /home/dcm/anaconda3/lib/python3.9/site-packages (from pandas!=1.4.0,<3,>1.1->ydata_profiling) (2022.1)\n",
      "Requirement already satisfied: joblib>=0.14.1 in /home/dcm/anaconda3/lib/python3.9/site-packages (from phik<0.13,>=0.11.1->ydata_profiling) (1.1.0)\n",
      "Requirement already satisfied: annotated-types>=0.4.0 in /home/dcm/anaconda3/lib/python3.9/site-packages (from pydantic>=2->ydata_profiling) (0.6.0)\n",
      "Requirement already satisfied: pydantic-core==2.14.5 in /home/dcm/anaconda3/lib/python3.9/site-packages (from pydantic>=2->ydata_profiling) (2.14.5)\n",
      "Requirement already satisfied: typing-extensions>=4.6.1 in /home/dcm/anaconda3/lib/python3.9/site-packages (from pydantic>=2->ydata_profiling) (4.8.0)\n",
      "Requirement already satisfied: certifi>=2017.4.17 in /home/dcm/anaconda3/lib/python3.9/site-packages (from requests<3,>=2.24.0->ydata_profiling) (2024.2.2)\n",
      "Requirement already satisfied: urllib3<3,>=1.21.1 in /home/dcm/anaconda3/lib/python3.9/site-packages (from requests<3,>=2.24.0->ydata_profiling) (1.26.11)\n",
      "Requirement already satisfied: idna<4,>=2.5 in /home/dcm/anaconda3/lib/python3.9/site-packages (from requests<3,>=2.24.0->ydata_profiling) (3.3)\n",
      "Requirement already satisfied: charset-normalizer<4,>=2 in /home/dcm/anaconda3/lib/python3.9/site-packages (from requests<3,>=2.24.0->ydata_profiling) (2.0.4)\n",
      "Requirement already satisfied: patsy>=0.5.2 in /home/dcm/anaconda3/lib/python3.9/site-packages (from statsmodels<1,>=0.13.2->ydata_profiling) (0.5.2)\n",
      "Requirement already satisfied: importlib-metadata>=3.6 in /home/dcm/anaconda3/lib/python3.9/site-packages (from typeguard<5,>=4.1.2->ydata_profiling) (4.11.3)\n",
      "Requirement already satisfied: zipp>=0.5 in /home/dcm/anaconda3/lib/python3.9/site-packages (from importlib-metadata>=3.6->typeguard<5,>=4.1.2->ydata_profiling) (3.17.0)\n",
      "Requirement already satisfied: six in /home/dcm/anaconda3/lib/python3.9/site-packages (from patsy>=0.5.2->statsmodels<1,>=0.13.2->ydata_profiling) (1.16.0)\n"
     ]
    }
   ],
   "source": [
    "!pip install ydata_profiling\n",
    "#%pip install -q ipywidgets\n",
    "#!conda install -c conda-forge ipywidgets"
   ]
  },
  {
   "cell_type": "code",
   "execution_count": 3,
   "id": "b0514307",
   "metadata": {},
   "outputs": [],
   "source": [
    "import pandas as pd\n",
    "import numpy as np\n",
    "import matplotlib.pyplot as plt\n",
    "import seaborn as sns\n",
    "import math\n",
    "import datetime\n",
    "import ipywidgets\n",
    "\n",
    "#from ydata_profiling import ProfileReport\n",
    "\n",
    "%matplotlib inline\n",
    "pd.set_option('display.max_columns', None)"
   ]
  },
  {
   "cell_type": "markdown",
   "id": "6d7313cf",
   "metadata": {},
   "source": [
    "# TASK 1 - EAD (EXPLORATORY DATA ANALYSIS)"
   ]
  },
  {
   "cell_type": "markdown",
   "id": "ff5d50bc",
   "metadata": {},
   "source": [
    "dataset daily_calendar_with_events.csv"
   ]
  },
  {
   "cell_type": "code",
   "execution_count": 4,
   "id": "b61fad7e",
   "metadata": {},
   "outputs": [],
   "source": [
    "df1 = pd.read_csv(\"data/daily_calendar_with_events.csv\")"
   ]
  },
  {
   "cell_type": "code",
   "execution_count": 5,
   "id": "9f4daf94",
   "metadata": {},
   "outputs": [
    {
     "data": {
      "text/html": [
       "<div>\n",
       "<style scoped>\n",
       "    .dataframe tbody tr th:only-of-type {\n",
       "        vertical-align: middle;\n",
       "    }\n",
       "\n",
       "    .dataframe tbody tr th {\n",
       "        vertical-align: top;\n",
       "    }\n",
       "\n",
       "    .dataframe thead th {\n",
       "        text-align: right;\n",
       "    }\n",
       "</style>\n",
       "<table border=\"1\" class=\"dataframe\">\n",
       "  <thead>\n",
       "    <tr style=\"text-align: right;\">\n",
       "      <th></th>\n",
       "      <th>date</th>\n",
       "      <th>weekday</th>\n",
       "      <th>weekday_int</th>\n",
       "      <th>d</th>\n",
       "      <th>event</th>\n",
       "    </tr>\n",
       "  </thead>\n",
       "  <tbody>\n",
       "    <tr>\n",
       "      <th>0</th>\n",
       "      <td>2011-01-29</td>\n",
       "      <td>Saturday</td>\n",
       "      <td>1</td>\n",
       "      <td>d_1</td>\n",
       "      <td>NaN</td>\n",
       "    </tr>\n",
       "    <tr>\n",
       "      <th>1</th>\n",
       "      <td>2011-01-30</td>\n",
       "      <td>Sunday</td>\n",
       "      <td>2</td>\n",
       "      <td>d_2</td>\n",
       "      <td>NaN</td>\n",
       "    </tr>\n",
       "    <tr>\n",
       "      <th>2</th>\n",
       "      <td>2011-01-31</td>\n",
       "      <td>Monday</td>\n",
       "      <td>3</td>\n",
       "      <td>d_3</td>\n",
       "      <td>NaN</td>\n",
       "    </tr>\n",
       "    <tr>\n",
       "      <th>3</th>\n",
       "      <td>2011-02-01</td>\n",
       "      <td>Tuesday</td>\n",
       "      <td>4</td>\n",
       "      <td>d_4</td>\n",
       "      <td>NaN</td>\n",
       "    </tr>\n",
       "    <tr>\n",
       "      <th>4</th>\n",
       "      <td>2011-02-02</td>\n",
       "      <td>Wednesday</td>\n",
       "      <td>5</td>\n",
       "      <td>d_5</td>\n",
       "      <td>NaN</td>\n",
       "    </tr>\n",
       "  </tbody>\n",
       "</table>\n",
       "</div>"
      ],
      "text/plain": [
       "         date    weekday  weekday_int    d event\n",
       "0  2011-01-29   Saturday            1  d_1   NaN\n",
       "1  2011-01-30     Sunday            2  d_2   NaN\n",
       "2  2011-01-31     Monday            3  d_3   NaN\n",
       "3  2011-02-01    Tuesday            4  d_4   NaN\n",
       "4  2011-02-02  Wednesday            5  d_5   NaN"
      ]
     },
     "execution_count": 5,
     "metadata": {},
     "output_type": "execute_result"
    }
   ],
   "source": [
    "df1.head()"
   ]
  },
  {
   "cell_type": "code",
   "execution_count": 6,
   "id": "a1211880",
   "metadata": {},
   "outputs": [],
   "source": [
    "df1['date'] = pd.to_datetime(df1.date)\n",
    "df1.set_index('date', inplace=True)"
   ]
  },
  {
   "cell_type": "code",
   "execution_count": 7,
   "id": "9693303c",
   "metadata": {},
   "outputs": [
    {
     "data": {
      "text/html": [
       "<div>\n",
       "<style scoped>\n",
       "    .dataframe tbody tr th:only-of-type {\n",
       "        vertical-align: middle;\n",
       "    }\n",
       "\n",
       "    .dataframe tbody tr th {\n",
       "        vertical-align: top;\n",
       "    }\n",
       "\n",
       "    .dataframe thead th {\n",
       "        text-align: right;\n",
       "    }\n",
       "</style>\n",
       "<table border=\"1\" class=\"dataframe\">\n",
       "  <thead>\n",
       "    <tr style=\"text-align: right;\">\n",
       "      <th></th>\n",
       "      <th>weekday</th>\n",
       "      <th>weekday_int</th>\n",
       "      <th>d</th>\n",
       "      <th>event</th>\n",
       "    </tr>\n",
       "    <tr>\n",
       "      <th>date</th>\n",
       "      <th></th>\n",
       "      <th></th>\n",
       "      <th></th>\n",
       "      <th></th>\n",
       "    </tr>\n",
       "  </thead>\n",
       "  <tbody>\n",
       "    <tr>\n",
       "      <th>2011-01-29</th>\n",
       "      <td>Saturday</td>\n",
       "      <td>1</td>\n",
       "      <td>d_1</td>\n",
       "      <td>NaN</td>\n",
       "    </tr>\n",
       "  </tbody>\n",
       "</table>\n",
       "</div>"
      ],
      "text/plain": [
       "             weekday  weekday_int    d event\n",
       "date                                        \n",
       "2011-01-29  Saturday            1  d_1   NaN"
      ]
     },
     "execution_count": 7,
     "metadata": {},
     "output_type": "execute_result"
    }
   ],
   "source": [
    "df1.head(1)"
   ]
  },
  {
   "cell_type": "code",
   "execution_count": 8,
   "id": "8d695b39",
   "metadata": {},
   "outputs": [
    {
     "name": "stdout",
     "output_type": "stream",
     "text": [
      "<class 'pandas.core.frame.DataFrame'>\n",
      "DatetimeIndex: 1913 entries, 2011-01-29 to 2016-04-24\n",
      "Data columns (total 4 columns):\n",
      " #   Column       Non-Null Count  Dtype \n",
      "---  ------       --------------  ----- \n",
      " 0   weekday      1913 non-null   object\n",
      " 1   weekday_int  1913 non-null   int64 \n",
      " 2   d            1913 non-null   object\n",
      " 3   event        26 non-null     object\n",
      "dtypes: int64(1), object(3)\n",
      "memory usage: 74.7+ KB\n"
     ]
    }
   ],
   "source": [
    "df1.info()"
   ]
  },
  {
   "cell_type": "code",
   "execution_count": 9,
   "id": "794874b9",
   "metadata": {},
   "outputs": [],
   "source": [
    "# Substituir linhas com valores NaN por 'Normalday'\n",
    "\n",
    "df1.fillna('Normalday', inplace=True)"
   ]
  },
  {
   "cell_type": "code",
   "execution_count": 10,
   "id": "b65ef26e",
   "metadata": {},
   "outputs": [
    {
     "data": {
      "text/html": [
       "<div>\n",
       "<style scoped>\n",
       "    .dataframe tbody tr th:only-of-type {\n",
       "        vertical-align: middle;\n",
       "    }\n",
       "\n",
       "    .dataframe tbody tr th {\n",
       "        vertical-align: top;\n",
       "    }\n",
       "\n",
       "    .dataframe thead th {\n",
       "        text-align: right;\n",
       "    }\n",
       "</style>\n",
       "<table border=\"1\" class=\"dataframe\">\n",
       "  <thead>\n",
       "    <tr style=\"text-align: right;\">\n",
       "      <th></th>\n",
       "      <th>weekday</th>\n",
       "      <th>weekday_int</th>\n",
       "      <th>d</th>\n",
       "      <th>event</th>\n",
       "    </tr>\n",
       "    <tr>\n",
       "      <th>date</th>\n",
       "      <th></th>\n",
       "      <th></th>\n",
       "      <th></th>\n",
       "      <th></th>\n",
       "    </tr>\n",
       "  </thead>\n",
       "  <tbody>\n",
       "    <tr>\n",
       "      <th>2011-01-29</th>\n",
       "      <td>Saturday</td>\n",
       "      <td>1</td>\n",
       "      <td>d_1</td>\n",
       "      <td>Normalday</td>\n",
       "    </tr>\n",
       "    <tr>\n",
       "      <th>2011-01-30</th>\n",
       "      <td>Sunday</td>\n",
       "      <td>2</td>\n",
       "      <td>d_2</td>\n",
       "      <td>Normalday</td>\n",
       "    </tr>\n",
       "    <tr>\n",
       "      <th>2011-01-31</th>\n",
       "      <td>Monday</td>\n",
       "      <td>3</td>\n",
       "      <td>d_3</td>\n",
       "      <td>Normalday</td>\n",
       "    </tr>\n",
       "    <tr>\n",
       "      <th>2011-02-01</th>\n",
       "      <td>Tuesday</td>\n",
       "      <td>4</td>\n",
       "      <td>d_4</td>\n",
       "      <td>Normalday</td>\n",
       "    </tr>\n",
       "    <tr>\n",
       "      <th>2011-02-02</th>\n",
       "      <td>Wednesday</td>\n",
       "      <td>5</td>\n",
       "      <td>d_5</td>\n",
       "      <td>Normalday</td>\n",
       "    </tr>\n",
       "  </tbody>\n",
       "</table>\n",
       "</div>"
      ],
      "text/plain": [
       "              weekday  weekday_int    d      event\n",
       "date                                              \n",
       "2011-01-29   Saturday            1  d_1  Normalday\n",
       "2011-01-30     Sunday            2  d_2  Normalday\n",
       "2011-01-31     Monday            3  d_3  Normalday\n",
       "2011-02-01    Tuesday            4  d_4  Normalday\n",
       "2011-02-02  Wednesday            5  d_5  Normalday"
      ]
     },
     "execution_count": 10,
     "metadata": {},
     "output_type": "execute_result"
    }
   ],
   "source": [
    "df1.head()"
   ]
  },
  {
   "cell_type": "code",
   "execution_count": 11,
   "id": "97e71e83",
   "metadata": {},
   "outputs": [
    {
     "data": {
      "text/plain": [
       "(1913, 4)"
      ]
     },
     "execution_count": 11,
     "metadata": {},
     "output_type": "execute_result"
    }
   ],
   "source": [
    "df1.shape"
   ]
  },
  {
   "cell_type": "code",
   "execution_count": 12,
   "id": "8e81a284",
   "metadata": {},
   "outputs": [
    {
     "data": {
      "text/plain": [
       "Normalday         1887\n",
       "SuperBowl            6\n",
       "Ramadan starts       5\n",
       "Thanksgiving         5\n",
       "NewYear              5\n",
       "Easter               5\n",
       "Name: event, dtype: int64"
      ]
     },
     "execution_count": 12,
     "metadata": {},
     "output_type": "execute_result"
    }
   ],
   "source": [
    "df1['event'].value_counts()"
   ]
  },
  {
   "cell_type": "code",
   "execution_count": 13,
   "id": "eb99a159",
   "metadata": {},
   "outputs": [
    {
     "data": {
      "text/plain": [
       "weekday        0\n",
       "weekday_int    0\n",
       "d              0\n",
       "event          0\n",
       "dtype: int64"
      ]
     },
     "execution_count": 13,
     "metadata": {},
     "output_type": "execute_result"
    }
   ],
   "source": [
    "# Dados em falta\n",
    "\n",
    "df1.isnull().sum()"
   ]
  },
  {
   "cell_type": "markdown",
   "id": "d0386eb8",
   "metadata": {},
   "source": [
    "Dataset item_prices.csv"
   ]
  },
  {
   "cell_type": "code",
   "execution_count": 14,
   "id": "6bf4a382",
   "metadata": {},
   "outputs": [],
   "source": [
    "#profile = ProfileReport(df1, title=\"Pandas Profiling Report\")"
   ]
  },
  {
   "cell_type": "code",
   "execution_count": 15,
   "id": "3edf745c",
   "metadata": {},
   "outputs": [],
   "source": [
    "#profile.to_file(\"daily_calendar_with_events.html\")\n",
    "#profile"
   ]
  },
  {
   "cell_type": "code",
   "execution_count": 16,
   "id": "19350323",
   "metadata": {},
   "outputs": [
    {
     "name": "stdout",
     "output_type": "stream",
     "text": [
      "<class 'pandas.core.frame.DataFrame'>\n",
      "RangeIndex: 6965706 entries, 0 to 6965705\n",
      "Data columns (total 5 columns):\n",
      " #   Column      Dtype  \n",
      "---  ------      -----  \n",
      " 0   item        object \n",
      " 1   category    object \n",
      " 2   store_code  object \n",
      " 3   yearweek    float64\n",
      " 4   sell_price  float64\n",
      "dtypes: float64(2), object(3)\n",
      "memory usage: 265.7+ MB\n"
     ]
    },
    {
     "data": {
      "text/html": [
       "<div>\n",
       "<style scoped>\n",
       "    .dataframe tbody tr th:only-of-type {\n",
       "        vertical-align: middle;\n",
       "    }\n",
       "\n",
       "    .dataframe tbody tr th {\n",
       "        vertical-align: top;\n",
       "    }\n",
       "\n",
       "    .dataframe thead th {\n",
       "        text-align: right;\n",
       "    }\n",
       "</style>\n",
       "<table border=\"1\" class=\"dataframe\">\n",
       "  <thead>\n",
       "    <tr style=\"text-align: right;\">\n",
       "      <th></th>\n",
       "      <th>item</th>\n",
       "      <th>category</th>\n",
       "      <th>store_code</th>\n",
       "      <th>yearweek</th>\n",
       "      <th>sell_price</th>\n",
       "    </tr>\n",
       "  </thead>\n",
       "  <tbody>\n",
       "    <tr>\n",
       "      <th>0</th>\n",
       "      <td>ACCESORIES_1_001</td>\n",
       "      <td>ACCESORIES</td>\n",
       "      <td>NYC_1</td>\n",
       "      <td>201328.0</td>\n",
       "      <td>12.7414</td>\n",
       "    </tr>\n",
       "    <tr>\n",
       "      <th>1</th>\n",
       "      <td>ACCESORIES_1_001</td>\n",
       "      <td>ACCESORIES</td>\n",
       "      <td>NYC_1</td>\n",
       "      <td>201329.0</td>\n",
       "      <td>12.7414</td>\n",
       "    </tr>\n",
       "    <tr>\n",
       "      <th>2</th>\n",
       "      <td>ACCESORIES_1_001</td>\n",
       "      <td>ACCESORIES</td>\n",
       "      <td>NYC_1</td>\n",
       "      <td>201330.0</td>\n",
       "      <td>10.9858</td>\n",
       "    </tr>\n",
       "    <tr>\n",
       "      <th>3</th>\n",
       "      <td>ACCESORIES_1_001</td>\n",
       "      <td>ACCESORIES</td>\n",
       "      <td>NYC_1</td>\n",
       "      <td>201331.0</td>\n",
       "      <td>10.9858</td>\n",
       "    </tr>\n",
       "    <tr>\n",
       "      <th>4</th>\n",
       "      <td>ACCESORIES_1_001</td>\n",
       "      <td>ACCESORIES</td>\n",
       "      <td>NYC_1</td>\n",
       "      <td>201332.0</td>\n",
       "      <td>10.9858</td>\n",
       "    </tr>\n",
       "  </tbody>\n",
       "</table>\n",
       "</div>"
      ],
      "text/plain": [
       "               item    category store_code  yearweek  sell_price\n",
       "0  ACCESORIES_1_001  ACCESORIES      NYC_1  201328.0     12.7414\n",
       "1  ACCESORIES_1_001  ACCESORIES      NYC_1  201329.0     12.7414\n",
       "2  ACCESORIES_1_001  ACCESORIES      NYC_1  201330.0     10.9858\n",
       "3  ACCESORIES_1_001  ACCESORIES      NYC_1  201331.0     10.9858\n",
       "4  ACCESORIES_1_001  ACCESORIES      NYC_1  201332.0     10.9858"
      ]
     },
     "execution_count": 16,
     "metadata": {},
     "output_type": "execute_result"
    }
   ],
   "source": [
    "df2 = pd.read_csv(\"data/item_prices.csv\")\n",
    "\n",
    "df2.info()\n",
    "df2.head()"
   ]
  },
  {
   "cell_type": "markdown",
   "id": "4865529d",
   "metadata": {},
   "source": [
    "Em um contexto de uma tabela de preços de itens (item_prices), o valor de yearweek geralmente seria usado para indicar em qual semana específica os preços foram registrados ou atualizados para um determinado item. Aqui está uma explicação mais detalhada:\n",
    "\n",
    "Identificação da Semana: O valor yearweek provavelmente consistiria em um número que combina o ano com o número da semana dentro desse ano. Por exemplo, \"201328\" pode significar a vigésima oitava semana do ano de 2013."
   ]
  },
  {
   "cell_type": "code",
   "execution_count": 17,
   "id": "61f66ec1",
   "metadata": {},
   "outputs": [],
   "source": [
    "# df2.drop('yearweek', axis=1, inplace=True) # Drop da coluna 'yearweek' "
   ]
  },
  {
   "cell_type": "code",
   "execution_count": 18,
   "id": "21a9807f",
   "metadata": {},
   "outputs": [
    {
     "data": {
      "text/plain": [
       "item               0\n",
       "category           0\n",
       "store_code         0\n",
       "yearweek      243920\n",
       "sell_price         0\n",
       "dtype: int64"
      ]
     },
     "execution_count": 18,
     "metadata": {},
     "output_type": "execute_result"
    }
   ],
   "source": [
    "# Dados em falta\n",
    "\n",
    "df2.isnull().sum()"
   ]
  },
  {
   "cell_type": "code",
   "execution_count": 19,
   "id": "da345171",
   "metadata": {},
   "outputs": [],
   "source": [
    "# Eliminar linhas duplicadas\n",
    "\n",
    "df2 = df2.drop_duplicates()"
   ]
  },
  {
   "cell_type": "code",
   "execution_count": 20,
   "id": "19b7f025",
   "metadata": {},
   "outputs": [],
   "source": [
    "# Eliminar linhas com NANs\n",
    "\n",
    "df2 = df2.dropna()"
   ]
  },
  {
   "cell_type": "code",
   "execution_count": 21,
   "id": "62966417",
   "metadata": {},
   "outputs": [
    {
     "data": {
      "text/plain": [
       "item          0\n",
       "category      0\n",
       "store_code    0\n",
       "yearweek      0\n",
       "sell_price    0\n",
       "dtype: int64"
      ]
     },
     "execution_count": 21,
     "metadata": {},
     "output_type": "execute_result"
    }
   ],
   "source": [
    "df2.isnull().sum()"
   ]
  },
  {
   "cell_type": "code",
   "execution_count": 22,
   "id": "0e439aee",
   "metadata": {},
   "outputs": [
    {
     "name": "stdout",
     "output_type": "stream",
     "text": [
      "<class 'pandas.core.frame.DataFrame'>\n",
      "Int64Index: 6721786 entries, 0 to 6965697\n",
      "Data columns (total 5 columns):\n",
      " #   Column      Dtype  \n",
      "---  ------      -----  \n",
      " 0   item        object \n",
      " 1   category    object \n",
      " 2   store_code  object \n",
      " 3   yearweek    float64\n",
      " 4   sell_price  float64\n",
      "dtypes: float64(2), object(3)\n",
      "memory usage: 307.7+ MB\n"
     ]
    }
   ],
   "source": [
    "df2. info()"
   ]
  },
  {
   "cell_type": "code",
   "execution_count": 23,
   "id": "70fea622",
   "metadata": {},
   "outputs": [],
   "source": [
    "#profile = ProfileReport(df2, title=\"Pandas Profiling Report\")"
   ]
  },
  {
   "cell_type": "code",
   "execution_count": 24,
   "id": "48c85a2d",
   "metadata": {},
   "outputs": [],
   "source": [
    "#profile.to_file(\"item_prices.html\")\n",
    "#profile"
   ]
  },
  {
   "cell_type": "markdown",
   "id": "7674da35",
   "metadata": {},
   "source": [
    "DataSet item_sales.csv"
   ]
  },
  {
   "cell_type": "code",
   "execution_count": null,
   "id": "d01fa064",
   "metadata": {},
   "outputs": [],
   "source": [
    "df3 = pd.read_csv(\"data/item_sales.csv\")\n",
    "\n",
    "df3.head()"
   ]
  },
  {
   "cell_type": "code",
   "execution_count": null,
   "id": "336bc6cd",
   "metadata": {},
   "outputs": [],
   "source": [
    "df3.shape"
   ]
  },
  {
   "cell_type": "code",
   "execution_count": null,
   "id": "d23e9a39",
   "metadata": {},
   "outputs": [],
   "source": [
    "df3.info()"
   ]
  },
  {
   "cell_type": "code",
   "execution_count": null,
   "id": "e0033312",
   "metadata": {},
   "outputs": [],
   "source": [
    "plt.figure(figsize=(10, 4), dpi=80)\n",
    "sns.histplot(data=df3, x=\"region\", shrink=.8, stat='percent')\n",
    "plt.title(\"Gráfico de barras - region\")\n",
    "plt.show()"
   ]
  },
  {
   "cell_type": "code",
   "execution_count": null,
   "id": "0297427a",
   "metadata": {},
   "outputs": [],
   "source": [
    "plt.figure(figsize=(15, 4), dpi=80)\n",
    "sns.histplot(data=df3, x=\"department\", shrink=.8, stat='percent')\n",
    "plt.title(\"Gráfico de barras - department\")\n",
    "plt.show()"
   ]
  },
  {
   "cell_type": "code",
   "execution_count": null,
   "id": "cc1f133c",
   "metadata": {},
   "outputs": [],
   "source": [
    "df3.describe()"
   ]
  },
  {
   "cell_type": "code",
   "execution_count": null,
   "id": "e42dd06e",
   "metadata": {},
   "outputs": [],
   "source": [
    "df3.describe(include=[object])"
   ]
  },
  {
   "cell_type": "code",
   "execution_count": null,
   "id": "8033e86e",
   "metadata": {},
   "outputs": [],
   "source": [
    "df3['region'].value_counts()"
   ]
  },
  {
   "cell_type": "code",
   "execution_count": null,
   "id": "eb1fa67d",
   "metadata": {},
   "outputs": [],
   "source": [
    "df3['department'].value_counts()"
   ]
  },
  {
   "cell_type": "code",
   "execution_count": null,
   "id": "8f239e21",
   "metadata": {},
   "outputs": [],
   "source": [
    "df3['store'].value_counts()"
   ]
  },
  {
   "cell_type": "code",
   "execution_count": null,
   "id": "a90395a9",
   "metadata": {},
   "outputs": [],
   "source": [
    "df3['category'].value_counts()"
   ]
  },
  {
   "cell_type": "code",
   "execution_count": null,
   "id": "7d619652",
   "metadata": {},
   "outputs": [],
   "source": [
    "# para excluir todas as colunas numéricas de uma vez\n",
    "#df3_sem_numericas = df3.select_dtypes(exclude=['number'])\n",
    "#df3_sem_numericas\n"
   ]
  },
  {
   "cell_type": "code",
   "execution_count": null,
   "id": "57cfa50a",
   "metadata": {},
   "outputs": [],
   "source": [
    "#df3_sem_numericas.shape"
   ]
  },
  {
   "cell_type": "code",
   "execution_count": null,
   "id": "6e431f48",
   "metadata": {},
   "outputs": [],
   "source": [
    "#profile = ProfileReport(df3_sem_numericas, title=\"Pandas Profiling Report\")"
   ]
  },
  {
   "cell_type": "code",
   "execution_count": null,
   "id": "34971122",
   "metadata": {},
   "outputs": [],
   "source": [
    "#profile.to_file(\"item_sales.html\")\n",
    "#profile"
   ]
  },
  {
   "cell_type": "code",
   "execution_count": null,
   "id": "f366df4a",
   "metadata": {},
   "outputs": [],
   "source": [
    "sales_melted = df3.melt(id_vars=['id', 'item', 'category', 'department', 'store', 'store_code', 'region'], var_name='d', value_name='value_sales')\n",
    "\n",
    "# Juntar os datasets com base na coluna 'd'\n",
    "merged_df = pd.merge(sales_melted, df1[['d', 'date']], on='d')"
   ]
  },
  {
   "cell_type": "markdown",
   "id": "3c027af3",
   "metadata": {},
   "source": [
    "# TASK 2 - Clustering"
   ]
  },
  {
   "cell_type": "markdown",
   "id": "648a2246",
   "metadata": {},
   "source": [
    "# TASK 3 - Sales Forecasting"
   ]
  },
  {
   "cell_type": "markdown",
   "id": "6197cff9",
   "metadata": {},
   "source": [
    "# TASK 4 - Store Replenishment Use Case (MLOps)"
   ]
  },
  {
   "cell_type": "markdown",
   "id": "0eed7d97",
   "metadata": {},
   "source": [
    "# TASK FINAL - Evaluation design"
   ]
  }
 ],
 "metadata": {
  "kernelspec": {
   "display_name": "env",
   "language": "python",
   "name": "env"
  },
  "language_info": {
   "codemirror_mode": {
    "name": "ipython",
    "version": 3
   },
   "file_extension": ".py",
   "mimetype": "text/x-python",
   "name": "python",
   "nbconvert_exporter": "python",
   "pygments_lexer": "ipython3",
   "version": "3.9.13"
  }
 },
 "nbformat": 4,
 "nbformat_minor": 5
}
